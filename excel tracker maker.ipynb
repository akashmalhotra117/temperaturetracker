{
 "cells": [
  {
   "cell_type": "code",
   "execution_count": 2,
   "id": "7941ba9b",
   "metadata": {},
   "outputs": [
    {
     "data": {
      "text/plain": [
       "['agartala.csv',\n",
       " 'agra.csv',\n",
       " 'ahmedabad.csv',\n",
       " 'aizawl.csv',\n",
       " 'aligarh.csv',\n",
       " 'allahabad.csv',\n",
       " 'amaravati.csv',\n",
       " 'amravati.csv',\n",
       " 'amritsar.csv',\n",
       " 'aurangabad.csv',\n",
       " 'bareilly.csv',\n",
       " 'bengaluru.csv',\n",
       " 'bhavnagar.csv',\n",
       " 'bhilai-nagar.csv',\n",
       " 'bhopal.csv',\n",
       " 'bhubaneswar.csv',\n",
       " 'bikaner.csv',\n",
       " 'chandigarh.csv',\n",
       " 'chennai.csv',\n",
       " 'coimbatore.csv',\n",
       " 'cuttack.csv',\n",
       " 'dehradun.csv',\n",
       " 'delhi.csv',\n",
       " 'dhanbad.csv',\n",
       " 'faridabad.csv',\n",
       " 'firozabad.csv',\n",
       " 'gandhinagar.csv',\n",
       " 'gangtok.csv',\n",
       " 'ghaziabad.csv',\n",
       " 'gorakhpur.csv',\n",
       " 'guntur.csv',\n",
       " 'gurgaon.csv',\n",
       " 'guwahati.csv',\n",
       " 'gwalior.csv',\n",
       " 'hubli-dharwad.csv',\n",
       " 'hyderabad.csv',\n",
       " 'imphal.csv',\n",
       " 'indore.csv',\n",
       " 'jabalpur.csv',\n",
       " 'jaipur.csv',\n",
       " 'jalandhar.csv',\n",
       " 'jalgaon.csv',\n",
       " 'jammu.csv',\n",
       " 'jamshedpur.csv',\n",
       " 'jodhpur.csv',\n",
       " 'kanpur.csv',\n",
       " 'kochi.csv',\n",
       " 'kolkata.csv',\n",
       " 'kota.csv',\n",
       " 'lucknow.csv',\n",
       " 'ludhiana.csv',\n",
       " 'madurai.csv',\n",
       " 'meerut.csv',\n",
       " 'moradabad.csv',\n",
       " 'mumbai.csv',\n",
       " 'mysore.csv',\n",
       " 'nagpur.csv',\n",
       " 'nashik.csv',\n",
       " 'nellore.csv',\n",
       " 'new-delhi.csv',\n",
       " 'noida.csv',\n",
       " 'patna.csv',\n",
       " 'pondicherry.csv',\n",
       " 'pune.csv',\n",
       " 'raipur.csv',\n",
       " 'rajkot.csv',\n",
       " 'ranchi.csv',\n",
       " 'saharanpur.csv',\n",
       " 'salem.csv',\n",
       " 'shimla.csv',\n",
       " 'solapur.csv',\n",
       " 'srinagar.csv',\n",
       " 'surat.csv',\n",
       " 'thiruvananthapuram.csv',\n",
       " 'tiruchirappalli.csv',\n",
       " 'tiruppur.csv',\n",
       " 'vadodara.csv',\n",
       " 'varanasi.csv',\n",
       " 'visakhapatnam.csv',\n",
       " 'warangal.csv']"
      ]
     },
     "execution_count": 2,
     "metadata": {},
     "output_type": "execute_result"
    }
   ],
   "source": [
    "import openpyxl\n",
    "from openpyxl import Workbook, worksheet\n",
    "import pandas as pd\n",
    "wb= Workbook()\n",
    "dest_filename = 'empty_book.xlsx'\n",
    "import os\n",
    "import glob\n",
    "from openpyxl import load_workbook\n",
    "path = 'C://Users/Akash/New folder (4)/temptracker/week 5/'\n",
    "extension = 'csv'\n",
    "os.chdir(path)\n",
    "files = glob.glob('*.{}'.format(extension))\n",
    "files"
   ]
  },
  {
   "cell_type": "code",
   "execution_count": 3,
   "id": "d381345e",
   "metadata": {},
   "outputs": [],
   "source": [
    "wb= load_workbook(filename=\"C://Users/Akash/New folder (4)/temptracker/tracker5.xlsx\")\n",
    "# dest_filename = 'empty_book.xlsx'\n",
    "# wb.create_sheet('mintemp')\n",
    "ws1 = wb[\"mintemp\"]\n",
    "from openpyxl.utils import get_column_letter\n",
    "for i in range(7, len(files)+7):\n",
    "    df=pd.read_csv(files[i-7],  parse_dates=['Date'])\n",
    "    temp = list(df['MinTemp'])\n",
    "    for j in range(len(temp)):\n",
    "        ws1[get_column_letter(j+4)+ str(i)]=temp[j]\n",
    "char = get_column_letter(3)\n",
    "for i in range(7, len(files)+7):\n",
    "    ws1[char+str(i)] = files[i-7].split('.')[0]\n",
    "i=8\n",
    "df=pd.read_csv(files[i-7])\n",
    "temp = list(df['Date'])\n",
    "i=6\n",
    "for j in range(len(temp)):\n",
    "    ws1[get_column_letter(j+4)+ str(i)]=temp[j]\n",
    "# for j in range(len(temp)):\n",
    "#     ws1[get_column_letter(j+4)+ str(5)]=\"=datevalue(\"+ get_column_letter(j+4)+ str(i)+\")\"\n",
    "for i in range(11,38,8):\n",
    "    ws1.insert_cols(i)\n",
    "# for j in range(len(temp)):\n",
    "#     ws1[get_column_letter(j+4)+ str(5)]=\"=datevalue(\"+ get_column_letter(j+4)+ str(i)+\")\"\n",
    "for j in range(11,38,8):\n",
    "    ws1[get_column_letter(j)+ str(6)]='Weekly Average'\n",
    "# for i in range(7,86):\n",
    "#     ws1[get_column_letter(7)+ str(i)]= \"=AVERAGE(D\" + str(i)+\":\"+ \"F\"+ str(i)+\")\" \n",
    "for i in range(7,86):\n",
    "    for j in range (11,38,8):\n",
    "        ws1[get_column_letter(j)+ str(i)]= \"=AVERAGE(\"+get_column_letter(j-7) + str(i)+\":\"+ get_column_letter(j-1)+ str(i)+\")\""
   ]
  },
  {
   "cell_type": "code",
   "execution_count": 4,
   "id": "7974fa2e",
   "metadata": {},
   "outputs": [],
   "source": [
    "wb.save(\"tracker6.xlsx\")"
   ]
  },
  {
   "cell_type": "code",
   "execution_count": 5,
   "id": "ecff4cd2",
   "metadata": {},
   "outputs": [
    {
     "data": {
      "text/plain": [
       "'C:\\\\Users\\\\Akash\\\\New folder (4)\\\\temptracker\\\\week 5'"
      ]
     },
     "execution_count": 5,
     "metadata": {},
     "output_type": "execute_result"
    }
   ],
   "source": [
    "%pwd"
   ]
  },
  {
   "cell_type": "code",
   "execution_count": 5,
   "id": "5509d1e2",
   "metadata": {},
   "outputs": [
    {
     "data": {
      "text/plain": [
       "<Worksheet \"Sheet\">"
      ]
     },
     "execution_count": 5,
     "metadata": {},
     "output_type": "execute_result"
    }
   ],
   "source": [
    "wb.active"
   ]
  },
  {
   "cell_type": "code",
   "execution_count": 7,
   "id": "68468b71",
   "metadata": {},
   "outputs": [
    {
     "ename": "NameError",
     "evalue": "name 'ws' is not defined",
     "output_type": "error",
     "traceback": [
      "\u001b[1;31m---------------------------------------------------------------------------\u001b[0m",
      "\u001b[1;31mNameError\u001b[0m                                 Traceback (most recent call last)",
      "\u001b[1;32m~\\AppData\\Local\\Temp/ipykernel_6440/2481831475.py\u001b[0m in \u001b[0;36m<module>\u001b[1;34m\u001b[0m\n\u001b[1;32m----> 1\u001b[1;33m \u001b[0mws\u001b[0m\u001b[1;33m.\u001b[0m\u001b[0mmintemp\u001b[0m\u001b[1;33m\u001b[0m\u001b[1;33m\u001b[0m\u001b[0m\n\u001b[0m",
      "\u001b[1;31mNameError\u001b[0m: name 'ws' is not defined"
     ]
    }
   ],
   "source": [
    "ws.mintemp"
   ]
  },
  {
   "cell_type": "code",
   "execution_count": 8,
   "id": "10afbd01",
   "metadata": {},
   "outputs": [
    {
     "ename": "SyntaxError",
     "evalue": "cannot assign to literal (Temp/ipykernel_6440/1651362772.py, line 1)",
     "output_type": "error",
     "traceback": [
      "\u001b[1;36m  File \u001b[1;32m\"C:\\Users\\Akash\\AppData\\Local\\Temp/ipykernel_6440/1651362772.py\"\u001b[1;36m, line \u001b[1;32m1\u001b[0m\n\u001b[1;33m    \"mintemp\"=wb.active\u001b[0m\n\u001b[1;37m    ^\u001b[0m\n\u001b[1;31mSyntaxError\u001b[0m\u001b[1;31m:\u001b[0m cannot assign to literal\n"
     ]
    }
   ],
   "source": [
    "\"mintemp\"=wb.active"
   ]
  },
  {
   "cell_type": "code",
   "execution_count": 59,
   "id": "db471753",
   "metadata": {},
   "outputs": [
    {
     "data": {
      "text/html": [
       "<div>\n",
       "<style scoped>\n",
       "    .dataframe tbody tr th:only-of-type {\n",
       "        vertical-align: middle;\n",
       "    }\n",
       "\n",
       "    .dataframe tbody tr th {\n",
       "        vertical-align: top;\n",
       "    }\n",
       "\n",
       "    .dataframe thead th {\n",
       "        text-align: right;\n",
       "    }\n",
       "</style>\n",
       "<table border=\"1\" class=\"dataframe\">\n",
       "  <thead>\n",
       "    <tr style=\"text-align: right;\">\n",
       "      <th></th>\n",
       "      <th>Unnamed: 0</th>\n",
       "      <th>MaxTemp</th>\n",
       "      <th>MinTemp</th>\n",
       "      <th>Date</th>\n",
       "    </tr>\n",
       "  </thead>\n",
       "  <tbody>\n",
       "    <tr>\n",
       "      <th>0</th>\n",
       "      <td>5</td>\n",
       "      <td>34</td>\n",
       "      <td>27</td>\n",
       "      <td>1 October 2021</td>\n",
       "    </tr>\n",
       "    <tr>\n",
       "      <th>1</th>\n",
       "      <td>6</td>\n",
       "      <td>35</td>\n",
       "      <td>27</td>\n",
       "      <td>2 October 2021</td>\n",
       "    </tr>\n",
       "    <tr>\n",
       "      <th>2</th>\n",
       "      <td>7</td>\n",
       "      <td>36</td>\n",
       "      <td>27</td>\n",
       "      <td>3 October 2021</td>\n",
       "    </tr>\n",
       "    <tr>\n",
       "      <th>3</th>\n",
       "      <td>8</td>\n",
       "      <td>34</td>\n",
       "      <td>24</td>\n",
       "      <td>4 October 2021</td>\n",
       "    </tr>\n",
       "    <tr>\n",
       "      <th>4</th>\n",
       "      <td>9</td>\n",
       "      <td>33</td>\n",
       "      <td>22</td>\n",
       "      <td>5 October 2021</td>\n",
       "    </tr>\n",
       "    <tr>\n",
       "      <th>5</th>\n",
       "      <td>10</td>\n",
       "      <td>35</td>\n",
       "      <td>22</td>\n",
       "      <td>6 October 2021</td>\n",
       "    </tr>\n",
       "    <tr>\n",
       "      <th>6</th>\n",
       "      <td>11</td>\n",
       "      <td>35</td>\n",
       "      <td>22</td>\n",
       "      <td>7 October 2021</td>\n",
       "    </tr>\n",
       "    <tr>\n",
       "      <th>7</th>\n",
       "      <td>12</td>\n",
       "      <td>36</td>\n",
       "      <td>23</td>\n",
       "      <td>8 October 2021</td>\n",
       "    </tr>\n",
       "    <tr>\n",
       "      <th>8</th>\n",
       "      <td>13</td>\n",
       "      <td>37</td>\n",
       "      <td>22</td>\n",
       "      <td>9 October 2021</td>\n",
       "    </tr>\n",
       "    <tr>\n",
       "      <th>9</th>\n",
       "      <td>14</td>\n",
       "      <td>34</td>\n",
       "      <td>22</td>\n",
       "      <td>10 October 2021</td>\n",
       "    </tr>\n",
       "    <tr>\n",
       "      <th>10</th>\n",
       "      <td>15</td>\n",
       "      <td>34</td>\n",
       "      <td>22</td>\n",
       "      <td>11 October 2021</td>\n",
       "    </tr>\n",
       "    <tr>\n",
       "      <th>11</th>\n",
       "      <td>16</td>\n",
       "      <td>34</td>\n",
       "      <td>21</td>\n",
       "      <td>12 October 2021</td>\n",
       "    </tr>\n",
       "    <tr>\n",
       "      <th>12</th>\n",
       "      <td>17</td>\n",
       "      <td>35</td>\n",
       "      <td>20</td>\n",
       "      <td>13 October 2021</td>\n",
       "    </tr>\n",
       "    <tr>\n",
       "      <th>13</th>\n",
       "      <td>18</td>\n",
       "      <td>34</td>\n",
       "      <td>20</td>\n",
       "      <td>14 October 2021</td>\n",
       "    </tr>\n",
       "    <tr>\n",
       "      <th>14</th>\n",
       "      <td>19</td>\n",
       "      <td>34</td>\n",
       "      <td>20</td>\n",
       "      <td>15 October 2021</td>\n",
       "    </tr>\n",
       "    <tr>\n",
       "      <th>15</th>\n",
       "      <td>20</td>\n",
       "      <td>33</td>\n",
       "      <td>20</td>\n",
       "      <td>16 October 2021</td>\n",
       "    </tr>\n",
       "    <tr>\n",
       "      <th>16</th>\n",
       "      <td>21</td>\n",
       "      <td>32</td>\n",
       "      <td>20</td>\n",
       "      <td>17 October 2021</td>\n",
       "    </tr>\n",
       "    <tr>\n",
       "      <th>17</th>\n",
       "      <td>22</td>\n",
       "      <td>33</td>\n",
       "      <td>18</td>\n",
       "      <td>18 October 2021</td>\n",
       "    </tr>\n",
       "    <tr>\n",
       "      <th>18</th>\n",
       "      <td>23</td>\n",
       "      <td>33</td>\n",
       "      <td>19</td>\n",
       "      <td>19 October 2021</td>\n",
       "    </tr>\n",
       "    <tr>\n",
       "      <th>19</th>\n",
       "      <td>24</td>\n",
       "      <td>32</td>\n",
       "      <td>19</td>\n",
       "      <td>20 October 2021</td>\n",
       "    </tr>\n",
       "    <tr>\n",
       "      <th>20</th>\n",
       "      <td>25</td>\n",
       "      <td>32</td>\n",
       "      <td>18</td>\n",
       "      <td>21 October 2021</td>\n",
       "    </tr>\n",
       "    <tr>\n",
       "      <th>21</th>\n",
       "      <td>26</td>\n",
       "      <td>33</td>\n",
       "      <td>18</td>\n",
       "      <td>22 October 2021</td>\n",
       "    </tr>\n",
       "    <tr>\n",
       "      <th>22</th>\n",
       "      <td>27</td>\n",
       "      <td>33</td>\n",
       "      <td>18</td>\n",
       "      <td>23 October 2021</td>\n",
       "    </tr>\n",
       "    <tr>\n",
       "      <th>23</th>\n",
       "      <td>28</td>\n",
       "      <td>33</td>\n",
       "      <td>17</td>\n",
       "      <td>24 October 2021</td>\n",
       "    </tr>\n",
       "    <tr>\n",
       "      <th>24</th>\n",
       "      <td>29</td>\n",
       "      <td>32</td>\n",
       "      <td>17</td>\n",
       "      <td>25 October 2021</td>\n",
       "    </tr>\n",
       "    <tr>\n",
       "      <th>25</th>\n",
       "      <td>30</td>\n",
       "      <td>32</td>\n",
       "      <td>17</td>\n",
       "      <td>26 October 2021</td>\n",
       "    </tr>\n",
       "    <tr>\n",
       "      <th>26</th>\n",
       "      <td>31</td>\n",
       "      <td>32</td>\n",
       "      <td>17</td>\n",
       "      <td>27 October 2021</td>\n",
       "    </tr>\n",
       "    <tr>\n",
       "      <th>27</th>\n",
       "      <td>32</td>\n",
       "      <td>31</td>\n",
       "      <td>16</td>\n",
       "      <td>28 October 2021</td>\n",
       "    </tr>\n",
       "    <tr>\n",
       "      <th>28</th>\n",
       "      <td>33</td>\n",
       "      <td>32</td>\n",
       "      <td>16</td>\n",
       "      <td>29 October 2021</td>\n",
       "    </tr>\n",
       "    <tr>\n",
       "      <th>29</th>\n",
       "      <td>34</td>\n",
       "      <td>31</td>\n",
       "      <td>17</td>\n",
       "      <td>30 October 2021</td>\n",
       "    </tr>\n",
       "    <tr>\n",
       "      <th>30</th>\n",
       "      <td>35</td>\n",
       "      <td>30</td>\n",
       "      <td>13</td>\n",
       "      <td>31 October 2021</td>\n",
       "    </tr>\n",
       "  </tbody>\n",
       "</table>\n",
       "</div>"
      ],
      "text/plain": [
       "    Unnamed: 0  MaxTemp  MinTemp             Date\n",
       "0            5       34       27   1 October 2021\n",
       "1            6       35       27   2 October 2021\n",
       "2            7       36       27   3 October 2021\n",
       "3            8       34       24   4 October 2021\n",
       "4            9       33       22   5 October 2021\n",
       "5           10       35       22   6 October 2021\n",
       "6           11       35       22   7 October 2021\n",
       "7           12       36       23   8 October 2021\n",
       "8           13       37       22   9 October 2021\n",
       "9           14       34       22  10 October 2021\n",
       "10          15       34       22  11 October 2021\n",
       "11          16       34       21  12 October 2021\n",
       "12          17       35       20  13 October 2021\n",
       "13          18       34       20  14 October 2021\n",
       "14          19       34       20  15 October 2021\n",
       "15          20       33       20  16 October 2021\n",
       "16          21       32       20  17 October 2021\n",
       "17          22       33       18  18 October 2021\n",
       "18          23       33       19  19 October 2021\n",
       "19          24       32       19  20 October 2021\n",
       "20          25       32       18  21 October 2021\n",
       "21          26       33       18  22 October 2021\n",
       "22          27       33       18  23 October 2021\n",
       "23          28       33       17  24 October 2021\n",
       "24          29       32       17  25 October 2021\n",
       "25          30       32       17  26 October 2021\n",
       "26          31       32       17  27 October 2021\n",
       "27          32       31       16  28 October 2021\n",
       "28          33       32       16  29 October 2021\n",
       "29          34       31       17  30 October 2021\n",
       "30          35       30       13  31 October 2021"
      ]
     },
     "execution_count": 59,
     "metadata": {},
     "output_type": "execute_result"
    }
   ],
   "source": [
    "df"
   ]
  },
  {
   "cell_type": "code",
   "execution_count": 12,
   "id": "a03bf829",
   "metadata": {},
   "outputs": [
    {
     "data": {
      "text/plain": [
       "<module 'openpyxl.worksheet' from 'X:\\\\Anaconda3\\\\lib\\\\site-packages\\\\openpyxl\\\\worksheet\\\\__init__.py'>"
      ]
     },
     "execution_count": 12,
     "metadata": {},
     "output_type": "execute_result"
    }
   ],
   "source": [
    "ws"
   ]
  },
  {
   "cell_type": "code",
   "execution_count": 16,
   "id": "cc27ec64",
   "metadata": {},
   "outputs": [],
   "source": [
    "ws1 = \"mintemp\""
   ]
  },
  {
   "cell_type": "code",
   "execution_count": 19,
   "id": "25c0e527",
   "metadata": {},
   "outputs": [],
   "source": [
    "ws.active = \"Sheet\""
   ]
  },
  {
   "cell_type": "code",
   "execution_count": 20,
   "id": "9a10a8e1",
   "metadata": {},
   "outputs": [
    {
     "data": {
      "text/plain": [
       "'Sheet'"
      ]
     },
     "execution_count": 20,
     "metadata": {},
     "output_type": "execute_result"
    }
   ],
   "source": [
    "ws.active"
   ]
  },
  {
   "cell_type": "code",
   "execution_count": 21,
   "id": "d064bcc4",
   "metadata": {},
   "outputs": [
    {
     "data": {
      "text/plain": [
       "<module 'openpyxl.worksheet' from 'X:\\\\Anaconda3\\\\lib\\\\site-packages\\\\openpyxl\\\\worksheet\\\\__init__.py'>"
      ]
     },
     "execution_count": 21,
     "metadata": {},
     "output_type": "execute_result"
    }
   ],
   "source": [
    "ws"
   ]
  },
  {
   "cell_type": "code",
   "execution_count": 31,
   "id": "9763c175",
   "metadata": {},
   "outputs": [],
   "source": [
    "ws.active=\"mintemp\""
   ]
  },
  {
   "cell_type": "code",
   "execution_count": 32,
   "id": "2f00620f",
   "metadata": {},
   "outputs": [],
   "source": [
    "ws1 = ws.active"
   ]
  },
  {
   "cell_type": "code",
   "execution_count": 33,
   "id": "d5b399df",
   "metadata": {},
   "outputs": [
    {
     "data": {
      "text/plain": [
       "'mintemp'"
      ]
     },
     "execution_count": 33,
     "metadata": {},
     "output_type": "execute_result"
    }
   ],
   "source": [
    "ws1"
   ]
  },
  {
   "cell_type": "code",
   "execution_count": 34,
   "id": "cbcd75cb",
   "metadata": {},
   "outputs": [
    {
     "data": {
      "text/plain": [
       "str"
      ]
     },
     "execution_count": 34,
     "metadata": {},
     "output_type": "execute_result"
    }
   ],
   "source": [
    "type(ws1)"
   ]
  },
  {
   "cell_type": "code",
   "execution_count": 35,
   "id": "f52ba700",
   "metadata": {},
   "outputs": [
    {
     "data": {
      "text/plain": [
       "str"
      ]
     },
     "execution_count": 35,
     "metadata": {},
     "output_type": "execute_result"
    }
   ],
   "source": [
    "type(ws.active)"
   ]
  },
  {
   "cell_type": "code",
   "execution_count": 37,
   "id": "fdfb1929",
   "metadata": {},
   "outputs": [],
   "source": [
    "ws1 = wb.active"
   ]
  },
  {
   "cell_type": "code",
   "execution_count": 39,
   "id": "cb75a481",
   "metadata": {},
   "outputs": [],
   "source": [
    "ws1 = wb[\"mintemp\"]"
   ]
  },
  {
   "cell_type": "code",
   "execution_count": 40,
   "id": "24669769",
   "metadata": {},
   "outputs": [
    {
     "data": {
      "text/plain": [
       "<Worksheet \"mintemp\">"
      ]
     },
     "execution_count": 40,
     "metadata": {},
     "output_type": "execute_result"
    }
   ],
   "source": [
    "ws1"
   ]
  },
  {
   "cell_type": "code",
   "execution_count": 44,
   "id": "bb340284",
   "metadata": {},
   "outputs": [],
   "source": [
    "from openpyxl.utils import get_column_letter\n",
    "for i in range(7, len(files)+7):\n",
    "    df=pd.read_csv(files[i-7])\n",
    "    temp = list(df['MinTemp'])\n",
    "    for j in range(len(temp)):\n",
    "        ws1[get_column_letter(j+4)+ str(i)]=temp[j]"
   ]
  },
  {
   "cell_type": "code",
   "execution_count": 45,
   "id": "be8bfe49",
   "metadata": {},
   "outputs": [],
   "source": [
    "wb.save(\"tracker.xlsx\")"
   ]
  },
  {
   "cell_type": "code",
   "execution_count": null,
   "id": "bfd608b9",
   "metadata": {},
   "outputs": [],
   "source": []
  }
 ],
 "metadata": {
  "kernelspec": {
   "display_name": "Python 3 (ipykernel)",
   "language": "python",
   "name": "python3"
  },
  "language_info": {
   "codemirror_mode": {
    "name": "ipython",
    "version": 3
   },
   "file_extension": ".py",
   "mimetype": "text/x-python",
   "name": "python",
   "nbconvert_exporter": "python",
   "pygments_lexer": "ipython3",
   "version": "3.8.5"
  }
 },
 "nbformat": 4,
 "nbformat_minor": 5
}
