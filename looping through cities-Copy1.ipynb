{
 "cells": [
  {
   "cell_type": "code",
   "execution_count": 2,
   "id": "fce87f7b",
   "metadata": {},
   "outputs": [],
   "source": [
    "import pandas as pd\n",
    "import seaborn as sns\n",
    "import numpy as np\n",
    "import matplotlib.pyplot as plt\n",
    "import seaborn as snsf\n",
    "from datetime import datetime\n",
    "from functools import reduce\n",
    "# from bokeh.io import output, output_file, output_notebook, reset_output\n",
    "from bokeh.plotting import figure, show, output_file, save, output_notebook\n",
    "from bs4 import BeautifulSoup as soup\n",
    "import requests\n",
    "import pandas as pd\n",
    "import time\n",
    "import random\n",
    "import re\n",
    "from datetime import date\n",
    "import os\n",
    "import glob\n",
    "import regex as re\n",
    "import numpy as np\n",
    "from bokeh.models import HoverTool"
   ]
  },
  {
   "cell_type": "code",
   "execution_count": 3,
   "id": "bf8f6e9a",
   "metadata": {},
   "outputs": [
    {
     "ename": "NameError",
     "evalue": "name 'df2017' is not defined",
     "output_type": "error",
     "traceback": [
      "\u001b[1;31m---------------------------------------------------------------------------\u001b[0m",
      "\u001b[1;31mNameError\u001b[0m                                 Traceback (most recent call last)",
      "\u001b[1;32m~\\AppData\\Local\\Temp/ipykernel_15400/2243909208.py\u001b[0m in \u001b[0;36m<module>\u001b[1;34m\u001b[0m\n\u001b[0;32m     18\u001b[0m     \u001b[0mglobals\u001b[0m\u001b[1;33m(\u001b[0m\u001b[1;33m)\u001b[0m\u001b[1;33m[\u001b[0m\u001b[1;34m\"df\"\u001b[0m\u001b[1;33m+\u001b[0m\u001b[0mcity\u001b[0m\u001b[1;33m]\u001b[0m \u001b[1;33m=\u001b[0m \u001b[0mdfcity\u001b[0m\u001b[1;33m\u001b[0m\u001b[1;33m\u001b[0m\u001b[0m\n\u001b[0;32m     19\u001b[0m \u001b[1;33m\u001b[0m\u001b[0m\n\u001b[1;32m---> 20\u001b[1;33m \u001b[0mdfpast\u001b[0m \u001b[1;33m=\u001b[0m \u001b[0mpd\u001b[0m\u001b[1;33m.\u001b[0m\u001b[0mconcat\u001b[0m\u001b[1;33m(\u001b[0m\u001b[1;33m[\u001b[0m\u001b[0mdf2017\u001b[0m\u001b[1;33m[\u001b[0m\u001b[1;34m'date'\u001b[0m\u001b[1;33m]\u001b[0m\u001b[1;33m,\u001b[0m\u001b[0mdf2017\u001b[0m\u001b[1;33m[\u001b[0m\u001b[1;34m'averagemin'\u001b[0m\u001b[1;33m]\u001b[0m\u001b[1;33m,\u001b[0m\u001b[0mdf2018\u001b[0m\u001b[1;33m[\u001b[0m\u001b[1;34m'averagemin'\u001b[0m\u001b[1;33m]\u001b[0m\u001b[1;33m,\u001b[0m\u001b[0mdf2019\u001b[0m\u001b[1;33m[\u001b[0m\u001b[1;34m'averagemin'\u001b[0m\u001b[1;33m]\u001b[0m\u001b[1;33m,\u001b[0m\u001b[0mdf2020\u001b[0m\u001b[1;33m[\u001b[0m\u001b[1;34m'averagemin'\u001b[0m\u001b[1;33m]\u001b[0m\u001b[1;33m]\u001b[0m\u001b[1;33m,\u001b[0m \u001b[0maxis\u001b[0m\u001b[1;33m=\u001b[0m\u001b[1;36m1\u001b[0m\u001b[1;33m)\u001b[0m\u001b[1;33m\u001b[0m\u001b[1;33m\u001b[0m\u001b[0m\n\u001b[0m\u001b[0;32m     21\u001b[0m \u001b[0mdfpast\u001b[0m\u001b[1;33m.\u001b[0m\u001b[0mcolumns\u001b[0m\u001b[1;33m=\u001b[0m\u001b[1;33m[\u001b[0m\u001b[1;34m'date'\u001b[0m\u001b[1;33m]\u001b[0m \u001b[1;33m+\u001b[0m \u001b[0myears\u001b[0m\u001b[1;33m\u001b[0m\u001b[1;33m\u001b[0m\u001b[0m\n\u001b[0;32m     22\u001b[0m \u001b[1;32mfor\u001b[0m \u001b[0mcols\u001b[0m \u001b[1;32min\u001b[0m \u001b[0mdfpast\u001b[0m\u001b[1;33m.\u001b[0m\u001b[0mcolumns\u001b[0m\u001b[1;33m.\u001b[0m\u001b[0mtolist\u001b[0m\u001b[1;33m(\u001b[0m\u001b[1;33m)\u001b[0m\u001b[1;33m[\u001b[0m\u001b[1;36m1\u001b[0m\u001b[1;33m:\u001b[0m\u001b[1;33m]\u001b[0m\u001b[1;33m:\u001b[0m\u001b[1;33m\u001b[0m\u001b[1;33m\u001b[0m\u001b[0m\n",
      "\u001b[1;31mNameError\u001b[0m: name 'df2017' is not defined"
     ]
    }
   ],
   "source": [
    "cities = [\"jaipur\", \"jalandhar\", \"ludhiana\", \"bikaner\"]\n",
    "years = [2017, 2018, 2019, 2020]\n",
    "mydateparser = lambda x: pd.datetime.strptime(x, \"%y %m %d\")\n",
    "for city in cities:\n",
    "    dfcity = pd.read_csv(city+\"-\"+str(2017)+\".csv\", parse_dates=['date'])\n",
    "    dfcity = dfcity[['date']]\n",
    "    for year in years:\n",
    "#         dfyear = pd.read_csv(city+\"-\"+str(year)+\".csv\", parse_dates=['date'])\n",
    "#         dfyear = dfyear[['date']]\n",
    "        dfcityyear = pd.read_csv(\"C://Users/Akash/New folder (4)/Untitled Folder/north/\"+city+\"-\"+str(year)+ \".csv\", parse_dates=['date'])\n",
    "        dfcityyear = dfcityyear[['tmin']]\n",
    "#         dfcityyear = \"df\"+city+str(year)\n",
    "#         dfcityyear = pd.read_csv(\"C://Users/Akash/New folder (4)/Untitled Folder/north/\"+city+\"-\"+str(year)+ \".csv\", parse_dates=['date'])\n",
    "#         dfcityyear = dfcityyear[['tmin']]\n",
    "        dfcity = pd.concat([dfcity, dfcityyear], axis=1, join=\"outer\")\n",
    "#         globals()[\"df\"+year] = dfcity    \n",
    "\n",
    "#     dfyear['averagemin'] = dfyear.mean(axis=1)\n",
    "    dfcity.columns = ['date','2017','2018','2019','2020']\n",
    "#     globals()[\"df\"+year] = dfcity    \n",
    "#     dfpast = pd.concat([df2017['date'],df2017['averagemin'],df2018['averagemin'],df2019['averagemin'],df2020['averagemin']], axis=1)\n",
    "#     dfpast.columns=['date'] + years\n",
    "    for cols in dfcity.columns.tolist()[1:]:\n",
    "        dfcity = dfcity[dfcity[cols] > 0]\n",
    "    # cities = [\"jaipur\", \"jalandhar\", \"ludhiana\", \"new-delhi\"]\n",
    "    colnames = [\"date\"] + years + [\"2021\"]+['realfeel']\n",
    "    years = [2021]\n",
    "    for year in years:\n",
    "    #     dfyear = \"df\"+str(year)\n",
    "        dfyear = pd.read_csv(\"C://Users/Akash/New folder (4)/Untitled Folder/north/\"+city+\"-\"+str(year)+\".csv\", parse_dates=['date'])\n",
    "        dfyear = dfyear[['date']]\n",
    "        for city in cities:\n",
    "    #         dfcityyear = \"df\"+city+str(year)\n",
    "            dfcityyear = pd.read_csv(\"C://Users/Akash/New folder (4)/Untitled Folder/north/\"+city+\"-\"+str(year)+\".csv\", parse_dates=['date'])\n",
    "            dfcityyear = dfcityyear[['tmin', 'realfeelmin']]\n",
    "            dfyear = pd.concat([dfyear, dfcityyear], axis=1, join=\"outer\")\n",
    "        dfyear['2021'] = dfyear[['tmin']].mean(axis=1)\n",
    "        dfyear['realfeel'] = dfyear[['realfeelmin']].mean(axis=1)    \n",
    "    #     dfyear.columns = colnames\n",
    "        globals()[\"df\"+str(year)]=dfyear\n",
    "    df2021 = df2021[['date', '2021', 'realfeel']]\n",
    "    dfpast['MonthDay'] = dfpast['date'].apply(lambda x: x.strftime(\"%B %d\") if pd.notnull(x) else '')\n",
    "    df2021['MonthDay'] = df2021['date'].apply(lambda x: x.strftime(\"%B %d\") if pd.notnull(x) else '')\n",
    "    maindf=pd.merge(dfpast, df2021, on=\"MonthDay\", how=\"inner\")\n",
    "    maindf.drop(['date_x'], axis=1, inplace=True)\n",
    "    maindf.rename(columns={'date_y':'date'}, inplace=True)\n",
    "    maindf.drop(['MonthDay'], axis=1, inplace=True)\n",
    "    column_to_move = maindf.pop(\"date\")\n",
    "    maindf.insert(0, \"date\", column_to_move)\n",
    "    df2 = maindf.groupby(pd.Grouper(freq='W', key='date'))[2017,2018,2019,2020,'2021', 'realfeel'].mean()\n",
    "    df2.reset_index(inplace=True)\n",
    "    df2.dropna()\n",
    "    dates = list(df2['date'])\n",
    "    dates = [x.strftime(\"%Y-%m-%d\") for x in dates]\n",
    "    df2['thresh']=18\n",
    "    p = figure(title=\"temp 3 years\", x_axis_type= \"datetime\", plot_width =1200,plot_height=600)\n",
    "    # p.line(df1['date'], df1[''].tolist(), legend_label=\"2017\", line_color=\"black\", line_width=2)\n",
    "    p.line(df2['date'], df2[2018].tolist(), legend_label=\"2018\", line_color=\"brown\", line_width=2)\n",
    "    p.line(df2['date'], df2[2019], line_color=\"blue\", legend_label = \"2019\")\n",
    "    p.line(df2['date'], df2[2020].tolist(), legend_label=\"2020\", line_color=\"red\", line_width=2)\n",
    "    p.line(df2['date'], df2['2021'], legend_label=\"2021\", line_color=\"green\", line_width=2)\n",
    "    p.line(df2['date'], df2['realfeel'], legend_label = \"realfeel\", line_color=\"black\")\n",
    "    p.line(df2['date'], df2['thresh'], legend_label = \"threshold\", line_color=\"yellow\")\n",
    "\n",
    "    p.add_tools(HoverTool(tooltips=[('date', '$x{%F}'), ('mintemp', '$y')],formatters = {'$x':'datetime'}))\n",
    "    # HoverTool(tooltips=[('date', '@dates{%F}')],formatters = {'@dates':'datetime'})\n",
    "    show(p)\n",
    "    output_file('C://Users/Akash/New folder (4)/Untitled Folder/graphs/' + city + '.html')\n",
    "    save(p)"
   ]
  },
  {
   "cell_type": "code",
   "execution_count": 13,
   "id": "6a0c9adc",
   "metadata": {},
   "outputs": [],
   "source": [
    "cities = [\"jaipur\", \"jalandhar\", \"ludhiana\", \"bhubaneswar\",\"newdelhi\", \"kolkata\", \"guwahati\"]\n",
    "years = [2017, 2018, 2019, 2020]\n",
    "mydateparser = lambda x: pd.datetime.strptime(x, \"%y %m %d\")\n",
    "for city in cities:\n",
    "    dfcity = pd.read_csv(\"C://Users/Akash/New folder (4)/Untitled Folder/north/\"+city+\"-\"+'2017'+\".csv\", parse_dates=['date'])\n",
    "    dfcity = dfcity[['date']]\n",
    "    for year in years:\n",
    "#         dfyear = pd.read_csv(city+\"-\"+str(year)+\".csv\", parse_dates=['date'])\n",
    "#         dfyear = dfyear[['date']]\n",
    "        dfcityyear = pd.read_csv(\"C://Users/Akash/New folder (4)/Untitled Folder/north/\"+city+\"-\"+str(year)+ \".csv\", parse_dates=['date'])\n",
    "        dfcityyear = dfcityyear[['mintemp']]\n",
    "#         dfcityyear = \"df\"+city+str(year)\n",
    "        dfcityyear = pd.read_csv(\"C://Users/Akash/New folder (4)/Untitled Folder/north/\"+city+\"-\"+str(year)+ \".csv\", parse_dates=['date'])\n",
    "        dfcityyear = dfcityyear[['mintemp']]\n",
    "        dfcity = pd.concat([dfcity, dfcityyear], axis=1, join=\"outer\")\n",
    "#     dfyear['averagemin'] = dfyear.mean(axis=1)\n",
    "    dfcity.columns = ['date','2017','2018','2019','2020']\n",
    "    globals()[city+\"df\"] = dfcity\n",
    "dflist = [city+\"df\" for city in cities]\n",
    "# years = ['2021']\n",
    "# for city in cities:\n",
    "#     dfcity = pd.read_csv(city+\"-\"+'2021'+\".csv\", parse_dates=['date'])\n",
    "#     dfcity = dfcity[['date', 'tmin', 'realfeelmin']]\n",
    "#     globals()[\"df\"+city+'2021'] = dfcity"
   ]
  },
  {
   "cell_type": "code",
   "execution_count": 27,
   "id": "35bfd26d",
   "metadata": {},
   "outputs": [],
   "source": [
    "dflist = [city+\"df\" for city in cities]"
   ]
  },
  {
   "cell_type": "code",
   "execution_count": 14,
   "id": "8027db19",
   "metadata": {},
   "outputs": [],
   "source": [
    "for city in cities:\n",
    "    dfcity = pd.read_csv(\"C://Users/Akash/New folder (4)/Untitled Folder/north/\"+city+\"-\"+str(2021)+\".csv\", parse_dates=['date'])\n",
    "    dfcity = dfcity[['date', 'tmin', 'realfeelmin']]\n",
    "    globals()[city+'2021'] = dfcity\n",
    "dflist2021 = "
   ]
  },
  {
   "cell_type": "code",
   "execution_count": 24,
   "id": "57b3b5fd",
   "metadata": {},
   "outputs": [
    {
     "ename": "TypeError",
     "evalue": "merge() missing 1 required positional argument: 'right'",
     "output_type": "error",
     "traceback": [
      "\u001b[1;31m---------------------------------------------------------------------------\u001b[0m",
      "\u001b[1;31mTypeError\u001b[0m                                 Traceback (most recent call last)",
      "\u001b[1;32m~\\AppData\\Local\\Temp/ipykernel_24912/4056679118.py\u001b[0m in \u001b[0;36m<module>\u001b[1;34m\u001b[0m\n\u001b[0;32m      1\u001b[0m \u001b[1;32mfor\u001b[0m \u001b[0mcity\u001b[0m \u001b[1;32min\u001b[0m \u001b[0mcities\u001b[0m\u001b[1;33m:\u001b[0m\u001b[1;33m\u001b[0m\u001b[1;33m\u001b[0m\u001b[0m\n\u001b[1;32m----> 2\u001b[1;33m     \u001b[0mpd\u001b[0m\u001b[1;33m.\u001b[0m\u001b[0mmerge\u001b[0m\u001b[1;33m(\u001b[0m\u001b[0mcity\u001b[0m\u001b[1;33m+\u001b[0m\u001b[1;33m(\u001b[0m\u001b[0mcity\u001b[0m \u001b[1;33m+\u001b[0m \u001b[0mstr\u001b[0m\u001b[1;33m(\u001b[0m\u001b[1;36m2021\u001b[0m\u001b[1;33m)\u001b[0m\u001b[1;33m)\u001b[0m\u001b[1;33m,\u001b[0m \u001b[0mhow\u001b[0m\u001b[1;33m=\u001b[0m\u001b[1;34m\"right\"\u001b[0m\u001b[1;33m,\u001b[0m \u001b[0mon\u001b[0m\u001b[1;33m=\u001b[0m\u001b[1;34m'date'\u001b[0m\u001b[1;33m)\u001b[0m\u001b[1;33m\u001b[0m\u001b[1;33m\u001b[0m\u001b[0m\n\u001b[0m",
      "\u001b[1;31mTypeError\u001b[0m: merge() missing 1 required positional argument: 'right'"
     ]
    }
   ],
   "source": [
    "for i in dflist:\n",
    "    pd.merge(city+(city + str(2021)), how=\"right\", on='date')"
   ]
  },
  {
   "cell_type": "code",
   "execution_count": 29,
   "id": "cca6eea5",
   "metadata": {},
   "outputs": [
    {
     "data": {
      "text/plain": [
       "'jaipurdf'"
      ]
     },
     "execution_count": 29,
     "metadata": {},
     "output_type": "execute_result"
    }
   ],
   "source": [
    "dflist[0]"
   ]
  },
  {
   "cell_type": "code",
   "execution_count": 26,
   "id": "de5bff2a",
   "metadata": {},
   "outputs": [
    {
     "data": {
      "text/plain": [
       "'jaipur'"
      ]
     },
     "execution_count": 26,
     "metadata": {},
     "output_type": "execute_result"
    }
   ],
   "source": [
    "city"
   ]
  },
  {
   "cell_type": "code",
   "execution_count": null,
   "id": "3c9fa6ec",
   "metadata": {},
   "outputs": [],
   "source": []
  }
 ],
 "metadata": {
  "kernelspec": {
   "display_name": "Python 3 (ipykernel)",
   "language": "python",
   "name": "python3"
  },
  "language_info": {
   "codemirror_mode": {
    "name": "ipython",
    "version": 3
   },
   "file_extension": ".py",
   "mimetype": "text/x-python",
   "name": "python",
   "nbconvert_exporter": "python",
   "pygments_lexer": "ipython3",
   "version": "3.8.5"
  }
 },
 "nbformat": 4,
 "nbformat_minor": 5
}
